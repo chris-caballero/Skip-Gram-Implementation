{
 "cells": [
  {
   "cell_type": "markdown",
   "metadata": {},
   "source": [
    "# Skip-gram Implementation Project\n",
    "\n",
    "Welcome to my skip gram notebook! Here, we'll uncover the mystery behind word embeddings by building a skip-gram model from scratch and see why such a simple model can create such interesting results!\n",
    "\n",
    "## Introduction to Skip-gram\n",
    "\n",
    "The  Skip-Gram  model  introduced  an  efficient  and  intuitive  way  to  create  word embeddings  with  various  positive  qualities.  With this model you could find so many common relationships between words, just by considering the context words appear in. The context in this case, is simply whatever words are nearby in the text you use for training. \n",
    "<br><br>\n",
    "The model chooses to represet words as vectors that live in a high-dimensional space. These vectors are trained to be close to eachother if they typically appear in the same context, and far apart if they typically don't. This basically means they are a bunch of points, and the ones that are near to each other should be related words while the ones that are far apart should be unrelated.\n",
    "<br><br>\n",
    "Of course, the proper context for a given word must be learned in practice, such as in the transformer model, but the skip-gram model layed a smooth foundation for the expedited progress of natural language processing in the past 10 years.\n",
    "\n",
    "## Project Goals\n",
    "\n",
    "In this project, our main goals are:\n",
    "\n",
    "\n",
    "1. **[Understanding Skip-gram](#understanding-skip-gram):** We will start by grasping the architecture of the skip-gram model along with its training objective. This will teach us how important a good training objective is and how it can create such fascinating results.\n",
    "\n",
    "2. **[Data Preprocessing](#data-preprocessing):** Before diving into the model implementation, we will prepare our data. This step involves cleaning and organizing the text data to ensure it meets the training objective.\n",
    "\n",
    "3. **[Model Implementation](#model-implementation):** We'll build the architecture as efficiently as we can, covering the output weights and the embeddings.\n",
    "    - **[Forward and Backward Passes](#forward-and-backward-passes):** With the model implemented, we'll train it using our processed dataset and evaluate its performance. We will learn together how training happens in this model and how gradients are propagated!\n",
    "<br><br>\n",
    "4. **[Visualization](#visualization):** To gain insights into the model's output, we'll visualize the word embeddings in a lower-dimensional space. We will also measure the predicted distribution across all words and see how it changes over time.\n",
    "\n",
    "5. **[Discussion](#discussion):** Lastly, we'll discuss the efficiency concerns of the model and the limitations in training both in this way and on such a limited dataset.\n"
   ]
  },
  {
   "cell_type": "markdown",
   "metadata": {},
   "source": [
    "<a id=\"understanding-skip-gram\"></a>\n",
    "## Understanding Skip-gram\n",
    "***\n",
    "The skip-gram model takes in an emedding matrix, passes it through one layer and compares it to a target (the context). The embedding matrix is essentially all the word vectors we have, one per word, and we will select the current word vector based on the current word in the text. \n",
    "<br><br> The context is also a vector. It is has one value per word, and this value is 0 if the word is not in the context and 1 if it is.\n",
    "\n",
    "So if I had: \n",
    "- \"It is nice outside today\" and current word is \"nice\" \n",
    "- $\\rightarrow$ Get the word vector for \"nice\" from the embedding matrix\n",
    "- $\\rightarrow$ Pass it through the skip-gram model\n",
    "- $\\rightarrow$ Get output vector with values between (0, 1). 0 means not in context and 1 means in context.\n",
    "- $\\rightarrow$ Compare to ground truth (context) which has a 1 exactly where the surrounding words \"It\" \"is\" \"outside\" \"today\" are, and 0 everywhere else."
   ]
  },
  {
   "cell_type": "markdown",
   "metadata": {},
   "source": [
    "<a id=\"data-preprocessing\"></a>\n",
    "## Data Loading and Preprocessing \n",
    "***\n",
    "So, before I get ahead of myself, let's prepare the data. Here, we want to read in a corpus (text file). Ideally, this will be prepared with care so as to encourage good relationships by the model. In my case, since this is a refactor of my first implementation of this project, and GPT has since come out.......I'll ask it to give me a corpus that propotes semantically meaningful embeddings. I don't really know how its figuring that out, but if you're interested, I'll show a bit of it below.\n",
    "\n",
    "1. First we read the file line by line. \n",
    "2. Then we will process the data to remove punctuation, stopwords and split into words.\n",
    "    - We can use re to effeciently clean the punctuation and numbers from our text.\n",
    "    - NLTK provides a nice collection of stopwords we can install, so we use those to get rid of our stopwords.\n",
    "3. Lastly, we create our encoding, which maps our words to indices in our embedding matrix, so we can quickly choose the current word in the training process."
   ]
  },
  {
   "cell_type": "code",
   "execution_count": 1,
   "metadata": {},
   "outputs": [
    {
     "name": "stderr",
     "output_type": "stream",
     "text": [
      "[nltk_data] Downloading package stopwords to\n",
      "[nltk_data]     /mnt/c/Users/chris/nltk_data...\n",
      "[nltk_data]   Package stopwords is already up-to-date!\n"
     ]
    }
   ],
   "source": [
    "import re\n",
    "import nltk\n",
    "from nltk.corpus import stopwords\n",
    "# for use in later visualizations\n",
    "import matplotlib.pyplot as plt\n",
    "import seaborn as sns\n",
    "from matplotlib.animation import FuncAnimation\n",
    "\n",
    "nltk.download('stopwords')\n",
    "\n",
    "def get_data(filename):\n",
    "    contents = []\n",
    "    with open(filename, 'r') as f:\n",
    "        lines = f.read()\n",
    "    \n",
    "    return lines\n",
    "\n",
    "def process_data(text):\n",
    "    stop_words = set(stopwords.words('english'))\n",
    "\n",
    "    text = re.sub(r'[^a-zA-Z\\s]', ' ', text)\n",
    "    text = re.sub(r'\\s+', ' ', text)\n",
    "    \n",
    "    cleaned_text = text.strip()\n",
    "\n",
    "    words = cleaned_text.split(' ')\n",
    "    stop_words_removed = [word.lower() for word in words if word.lower() not in stop_words]\n",
    "\n",
    "    return stop_words_removed\n",
    "\n",
    "def display_text(text, words=None):\n",
    "    print('-'*6 + f'\\nCORPUS\\n' + '-'*6)\n",
    "    for i, line in enumerate(corpus.split('.')):\n",
    "        print(line)\n",
    "\n",
    "        if i > 5:\n",
    "            break\n",
    "\n",
    "    if words is not None:\n",
    "        print()\n",
    "        print('-'*5 + f'\\nWORDS\\n' + '-'*5)\n",
    "        print(words[:10])"
   ]
  },
  {
   "cell_type": "code",
   "execution_count": 2,
   "metadata": {},
   "outputs": [],
   "source": [
    "DATA_DIR = '../../data/'\n",
    "FILE = 'corpus.txt'\n",
    "\n",
    "filename = DATA_DIR + FILE\n",
    "\n",
    "corpus = get_data(filename)\n",
    "words = process_data(corpus)"
   ]
  },
  {
   "cell_type": "markdown",
   "metadata": {},
   "source": [
    "Here you can see some of the original corpus, versus our list of words after preprocessing our data for training. We remove all punctuation, and filter out the stopwords. It's a fairly basic preprocessing stage, but good enough for the purposes of this project."
   ]
  },
  {
   "cell_type": "code",
   "execution_count": 3,
   "metadata": {},
   "outputs": [
    {
     "name": "stdout",
     "output_type": "stream",
     "text": [
      "------\n",
      "CORPUS\n",
      "------\n",
      "In the heart of the bustling city, travelers gather to share stories of their adventures\n",
      " Each journey brings unique experiences and lessons, as explorers venture into uncharted territories\n",
      "\n",
      "\n",
      "High in the mountains, where the air is crisp and the landscapes breathtaking, hikers navigate winding trails, uncovering hidden gems amidst the wilderness\n",
      " The echo of footsteps resonates through the valleys, connecting those who seek solace in nature\n",
      "\n",
      "\n",
      "Along the coastline, waves kiss the shore, leaving behind a treasure trove of shells and secrets\n",
      " Sailors set sail on the vast sea, chasing the horizon with dreams of distant lands\n",
      " The ocean's expanse reflects the infinite possibilities of the world\n",
      "\n",
      "-----\n",
      "WORDS\n",
      "-----\n",
      "['heart', 'bustling', 'city', 'travelers', 'gather', 'share', 'stories', 'adventures', 'journey', 'brings']\n"
     ]
    }
   ],
   "source": [
    "display_text(corpus, words)"
   ]
  },
  {
   "cell_type": "markdown",
   "metadata": {},
   "source": [
    "### Tokenizer Class\n",
    "Now I will create an encoding for the words, so each word gets a unique index. Then I will create our embedding matrix as a randomly initialized matrix, with one vector for each word.\n",
    "- I mentioned we are using a high-dimensional vector for each word. \n",
    "- This dimensionality can be modified, as a hyper-parameter it's important to see how the dimensionality affects our performance!"
   ]
  },
  {
   "cell_type": "code",
   "execution_count": 4,
   "metadata": {},
   "outputs": [],
   "source": [
    "# Tokenizer class is very simple, just getting the encodings for the words and maintaining the vocabulary\n",
    "class Tokenizer():\n",
    "    def __init__(self):\n",
    "        self.vocab = []\n",
    "        self.index_to_key = {}\n",
    "        self.key_to_index = {}\n",
    "    \n",
    "    def fit(self, words):\n",
    "        # get unique words\n",
    "        vocab = set(words)\n",
    "        # get index for each unique word and create forward and backward map\n",
    "        self.index_to_key = {i : word for i, word in enumerate(vocab)}\n",
    "        self.key_to_index = {word : i for i, word in enumerate(vocab)}\n",
    "        self.vocab = list(vocab)\n",
    "\n",
    "def encode_words(words, tokenizer):\n",
    "    # encode the words as their indices for training\n",
    "    encoding = [tokenizer.key_to_index[word] for word in words]\n",
    "\n",
    "    return encoding\n"
   ]
  },
  {
   "cell_type": "code",
   "execution_count": 5,
   "metadata": {},
   "outputs": [
    {
     "name": "stdout",
     "output_type": "stream",
     "text": [
      "--------------\n",
      "ENCODED WORDS\n",
      "--------------\n",
      "Words: ['heart', 'bustling', 'city', 'travelers', 'gather', 'share', 'stories', 'adventures', 'journey', 'brings']\n",
      "Encoding: [135, 76, 21, 89, 127, 122, 82, 71, 126, 105]\n"
     ]
    }
   ],
   "source": [
    "tokenizer = Tokenizer()\n",
    "tokenizer.fit(words)\n",
    "encoding = encode_words(words, tokenizer)\n",
    "\n",
    "print('--------------'+'\\nENCODED WORDS\\n'+'--------------')\n",
    "print('Words:', words[:10])\n",
    "print('Encoding:', encoding[:10])"
   ]
  },
  {
   "cell_type": "markdown",
   "metadata": {},
   "source": [
    "### Dataset Creation\n",
    "For our training set, we need a specific format. On each iteration, we will take the current word as input, and try to predict the surrounding words as output. So our training data has one input (the current word index) and one output (the surrounding words). The surrounding words are within a \"window\" of our input. This \"window size\" is also a hyper-parameter and can be adjusted.<br><br>\n",
    "**Note:** The window size is the value of words we take in either direction, so the context is 2x the size."
   ]
  },
  {
   "cell_type": "code",
   "execution_count": 6,
   "metadata": {},
   "outputs": [],
   "source": [
    "import numpy as np\n",
    "\n",
    "def one_hot(context_id, vocab_size):\n",
    "    one_hot_vector = np.zeros(vocab_size)\n",
    "    one_hot_vector[context_id] = 1.0\n",
    "    \n",
    "    return one_hot_vector\n",
    "\n",
    "def create_dataset(encoding, tokenizer, window_size=2):\n",
    "    dataset = []\n",
    "    for i in range(len(encoding)):\n",
    "        start = max(0, i - window_size)\n",
    "        end = min(len(encoding), i + window_size + 1)\n",
    "\n",
    "        context = encoding[start:i]\n",
    "        context.extend(encoding[i+1:end])\n",
    "\n",
    "        # target = one_hot(context, tokenizer)\n",
    "        \n",
    "        dataset.append({\n",
    "            'input_id': encoding[i], \n",
    "            'context': [one_hot(context_id, len(tokenizer.vocab)) for context_id in context]\n",
    "        })\n",
    "\n",
    "    return dataset"
   ]
  },
  {
   "cell_type": "code",
   "execution_count": 7,
   "metadata": {},
   "outputs": [
    {
     "data": {
      "text/plain": [
       "{'input_id': 10,\n",
       " 'context': [array([0., 0., 0., 0., 0., 0., 0., 0., 0., 0., 0., 0., 0., 0., 0., 0., 0.,\n",
       "         0., 0., 0., 0., 0., 0., 0., 0., 0., 0., 0., 0., 0., 0., 0., 0., 0.,\n",
       "         0., 0., 0., 0., 0., 0., 0., 0., 0., 0., 0., 0., 0., 0., 0., 0., 0.,\n",
       "         0., 0., 0., 0., 0., 0., 0., 0., 0., 0., 0., 0., 0., 0., 0., 0., 0.,\n",
       "         0., 0., 0., 0., 0., 0., 0., 0., 0., 0., 0., 0., 0., 0., 0., 0., 0.,\n",
       "         0., 0., 0., 0., 0., 0., 0., 0., 0., 0., 0., 0., 0., 0., 0., 0., 0.,\n",
       "         0., 0., 0., 0., 0., 0., 0., 0., 0., 0., 0., 0., 0., 0., 0., 0., 0.,\n",
       "         0., 0., 0., 0., 0., 0., 0., 1., 0., 0., 0., 0., 0., 0., 0., 0., 0.,\n",
       "         0., 0., 0., 0., 0., 0., 0., 0., 0., 0., 0., 0., 0., 0., 0., 0., 0.,\n",
       "         0., 0., 0., 0., 0., 0., 0., 0., 0., 0., 0., 0., 0., 0., 0., 0., 0.,\n",
       "         0., 0., 0., 0., 0., 0.]),\n",
       "  array([0., 0., 0., 0., 0., 0., 0., 0., 0., 0., 0., 0., 0., 0., 0., 0., 0.,\n",
       "         0., 0., 0., 0., 0., 0., 0., 0., 0., 0., 0., 0., 0., 0., 0., 0., 0.,\n",
       "         0., 0., 0., 0., 0., 0., 0., 0., 0., 0., 0., 0., 0., 0., 0., 0., 0.,\n",
       "         0., 0., 0., 0., 0., 0., 0., 0., 0., 0., 0., 0., 0., 0., 0., 0., 0.,\n",
       "         0., 0., 0., 0., 0., 0., 0., 0., 0., 0., 0., 0., 0., 0., 0., 0., 0.,\n",
       "         0., 0., 0., 0., 0., 0., 0., 0., 0., 0., 0., 0., 0., 0., 0., 0., 0.,\n",
       "         0., 0., 0., 1., 0., 0., 0., 0., 0., 0., 0., 0., 0., 0., 0., 0., 0.,\n",
       "         0., 0., 0., 0., 0., 0., 0., 0., 0., 0., 0., 0., 0., 0., 0., 0., 0.,\n",
       "         0., 0., 0., 0., 0., 0., 0., 0., 0., 0., 0., 0., 0., 0., 0., 0., 0.,\n",
       "         0., 0., 0., 0., 0., 0., 0., 0., 0., 0., 0., 0., 0., 0., 0., 0., 0.,\n",
       "         0., 0., 0., 0., 0., 0.]),\n",
       "  array([0., 0., 0., 0., 0., 0., 0., 0., 0., 0., 0., 0., 0., 0., 0., 0., 0.,\n",
       "         0., 0., 0., 0., 0., 0., 0., 0., 0., 0., 0., 0., 0., 0., 0., 0., 0.,\n",
       "         0., 1., 0., 0., 0., 0., 0., 0., 0., 0., 0., 0., 0., 0., 0., 0., 0.,\n",
       "         0., 0., 0., 0., 0., 0., 0., 0., 0., 0., 0., 0., 0., 0., 0., 0., 0.,\n",
       "         0., 0., 0., 0., 0., 0., 0., 0., 0., 0., 0., 0., 0., 0., 0., 0., 0.,\n",
       "         0., 0., 0., 0., 0., 0., 0., 0., 0., 0., 0., 0., 0., 0., 0., 0., 0.,\n",
       "         0., 0., 0., 0., 0., 0., 0., 0., 0., 0., 0., 0., 0., 0., 0., 0., 0.,\n",
       "         0., 0., 0., 0., 0., 0., 0., 0., 0., 0., 0., 0., 0., 0., 0., 0., 0.,\n",
       "         0., 0., 0., 0., 0., 0., 0., 0., 0., 0., 0., 0., 0., 0., 0., 0., 0.,\n",
       "         0., 0., 0., 0., 0., 0., 0., 0., 0., 0., 0., 0., 0., 0., 0., 0., 0.,\n",
       "         0., 0., 0., 0., 0., 0.]),\n",
       "  array([0., 0., 0., 0., 0., 0., 0., 0., 0., 0., 0., 0., 0., 0., 0., 0., 0.,\n",
       "         0., 0., 0., 0., 0., 0., 0., 0., 0., 0., 0., 0., 0., 0., 0., 0., 0.,\n",
       "         0., 0., 0., 0., 0., 0., 0., 0., 0., 0., 0., 0., 0., 0., 0., 0., 0.,\n",
       "         0., 0., 0., 0., 0., 0., 0., 0., 0., 0., 0., 0., 0., 0., 0., 0., 0.,\n",
       "         0., 0., 0., 0., 0., 0., 0., 0., 0., 0., 0., 0., 0., 0., 0., 0., 0.,\n",
       "         0., 0., 0., 0., 0., 0., 0., 0., 0., 0., 0., 0., 0., 0., 0., 0., 0.,\n",
       "         0., 0., 0., 0., 0., 0., 0., 0., 0., 0., 0., 0., 0., 0., 0., 0., 0.,\n",
       "         0., 0., 0., 0., 0., 0., 0., 0., 0., 0., 0., 0., 0., 0., 0., 0., 0.,\n",
       "         0., 0., 0., 0., 0., 0., 0., 0., 0., 0., 0., 0., 0., 0., 0., 0., 0.,\n",
       "         0., 0., 0., 0., 0., 0., 0., 0., 0., 0., 0., 0., 0., 0., 0., 0., 0.,\n",
       "         0., 0., 0., 0., 0., 1.])]}"
      ]
     },
     "execution_count": 7,
     "metadata": {},
     "output_type": "execute_result"
    }
   ],
   "source": [
    "WINDOW_SIZE = 2\n",
    "\n",
    "dataset = create_dataset(encoding, tokenizer, window_size=WINDOW_SIZE)\n",
    "dataset[10]"
   ]
  },
  {
   "cell_type": "markdown",
   "metadata": {},
   "source": [
    "<a id=\"model-implementation\"></a>\n",
    "## Embeddings and Model Architecutre\n",
    "***\n",
    "The model architecture is basically one weight matrix. This matrix has the dimensions (embedding_dim, vocab_size), and is often refered to as the output word vectors. This is because the output vectors which refer to each word in the context move closer together, providing their own relationships. Besides this we have our word embeddings. This will be a matrix of dimensions (vocab_size, embedding_dim), where each word in the vocab has its own vector of size (, embedding_dim)."
   ]
  },
  {
   "cell_type": "markdown",
   "metadata": {},
   "source": [
    "<!-- <div style=\"text-align: center;\"> -->\n",
    "<img src=\"../../imgs/skip-gram-architecture.png\" alt=\"Skip Gram Architecture\" width=\"400\" height=\"500\" style=\"border: 2px solid black; padding: 20px; background-color: white;\">\n",
    "<!-- </div> -->"
   ]
  },
  {
   "cell_type": "markdown",
   "metadata": {},
   "source": [
    "- **Note:** In the original implementation, the embedding is abstracted away, giving rise to two weight matrices instead of one. This is because the input is a one-hot vector of the current word, so by performing matrix multiplication we get a unique weight vector from the first weight matrix (our embedding / hidden layer). The embedding is simply a more efficient implementation, opting out of the multiplication for simple indexing.\n",
    "- **Also Note:** There are multiple output vectors! Don't worry, it's really pretty simple. Each context word gets assigned its own one-hot vector. When we multiply by the weight matrix to get our prediction, we simply compare the prediction against each context vector individually. We basically ask multiple times, do you think ***this*** word's related?"
   ]
  },
  {
   "cell_type": "markdown",
   "metadata": {},
   "source": [
    "### SkipGramModel Class\n",
    "Alright, so implementing the model is next. Let's make a simple class to hold our relevant states, so we can update the parameters and keep everything tidy.\n",
    "- This class will hold the relevant parameters that the model should update during training. \n",
    "- This will contain our word vectors and our weights. \n",
    "- We also add fields for our callback, which store relevant information for later visualizations. \n",
    "    - This can be cool for getting an animated view of the training process!\n",
    "\n",
    "**Key Features:**\n",
    "1. Embedding and weight matrices\n",
    "    - The embedding matrix and weight matrix will be initialized randomly to have values between -1 and 1. \n",
    "    - It's important to keep these small, as large values will cause unpredictable behavior in the model and severly hinder training.\n",
    "2. SoftMax\n",
    "    - This is our activation function for the output. When we multiply our matrices together, we get a value for each word. A larger value implies the model is more confident that a given word is in the context.\n",
    "    - SoftMax normalizes this information, so that the entire vector becomes a probability distribution. This means that for each word, the model predicts the probability that the word is in the context.\n",
    "3. Loss function\n",
    "    - $E = -\\log{p(w_I)}$\n",
    "    - This simple equation takes the log probability of our predictions. There are various nice qualities about this, the most prominent being the ease of gradient descent calculations. \n",
    "    - This objective moves word vectors away from eachother if they don't appear in the same context and closer if they do.\n",
    "***\n",
    "<a id=\"forward-and-backward-passes\"></a>\n",
    "**Forward and Backward Passes:**\n",
    "1. Predict\n",
    "    - Performs the inner product of the matrices, giving us our prediction score.\n",
    "    - Takes the prediction scores and normalizes them into a probability distribution with softmax.\n",
    "2. Backward\n",
    "    - Gradient descent takes the negative gradient and shifts the weight in this direction. By taking the negative gradient, we are trying to ski down the loss function and minimize the error.\n",
    "    - This process can be broken down in three steps:\n",
    "        1. Gradient of the loss function: This simply evaluates to the 'prediction - truth.' \n",
    "        - The nice properties show up! The gradient of that seemingly complex loss function is just prediction score minus 1 (if the word is in the context) and minus 0 (if its not). \n",
    "        - **Notice** \n",
    "            - If our predicted probability is close to 1 and we are wrong, then we get a relatively large positive value. \n",
    "            - If we predict close to 0 we are wrong, we get a large negative value. \n",
    "            - By doing this we will bring vectors close if they are 1, and push them away if they are 0. This push is proportional to the error (how far off from the truth we were). \n",
    "            - If we are right, then the push is tiny, and we don't mess much with that prediction anymore.\n",
    "        "
   ]
  },
  {
   "cell_type": "code",
   "execution_count": 8,
   "metadata": {},
   "outputs": [],
   "source": [
    "class SkipGramModel():\n",
    "    def __init__(self, vocab_size, embedding_dim, target_id=0, learning_rate=0.001):\n",
    "        self.embedding_matrix = np.random.uniform(-1, 1, (vocab_size, embedding_dim))\n",
    "        self.weights = np.random.uniform(-1, 1, (embedding_dim, vocab_size))\n",
    "\n",
    "        self.learning_rate = learning_rate\n",
    "\n",
    "        self.target_id=target_id\n",
    "\n",
    "        self.vectors_over_time = []\n",
    "        self.predictions_over_time = []\n",
    "        self.loss_curve = []\n",
    "    \n",
    "    @staticmethod\n",
    "    def softmax(score):\n",
    "        exp_scores = np.exp(score - np.max(score))\n",
    "        return exp_scores / exp_scores.sum()\n",
    "    \n",
    "    def loss_fn(self, y_pred, context):\n",
    "        epsilon = 1e-8\n",
    "        loss = -np.sum(context * np.log(np.maximum(y_pred, epsilon)), axis=-1).mean()\n",
    "\n",
    "        return loss\n",
    "    \n",
    "    # for predictions, we perform an inner product with the weights, then softmax the score to get a distribution we compare to ground truth context\n",
    "    def predict(self, input_id):\n",
    "        try:    \n",
    "            score = np.dot(self.embedding_matrix[input_id], self.weights)\n",
    "            y_pred = SkipGramModel.softmax(score)\n",
    "        except:\n",
    "            print(input_id)\n",
    "            y_pred = np.zeros(self.embedding_matrix[input_id].shape)\n",
    "       \n",
    "        return y_pred\n",
    "\n",
    "    # backward pass transfers the gradient from the prediction error (y_pred - context)\n",
    "    # to the weights by performing an outer product with the current word embedding. \n",
    "    # this is then used to update the embedding vector by performing an inner product on the new weights with the error\n",
    "    def backward(self, input_id, context, y_pred):\n",
    "        for context_vector in context:\n",
    "            # Calculate the error as the difference between the prediction and the true context word\n",
    "            error = y_pred - context_vector\n",
    "            \n",
    "            # Update the output vectors (model weights)\n",
    "            self.weights -= self.learning_rate * np.outer(self.embedding_matrix[input_id], error)\n",
    "\n",
    "            # Update the input vectors (embedding vector)\n",
    "            self.embedding_matrix[input_id] -= self.learning_rate * np.dot(self.weights, error)\n",
    "\n",
    "    # updated when the model runs to get visualizations\n",
    "    def update_model_states(self, word_vectors_2d=None, predictions=None, loss=None):\n",
    "        if word_vectors_2d is not None:\n",
    "            self.vectors_over_time.append(word_vectors_2d)\n",
    "        if predictions is not None:\n",
    "            self.predictions_over_time.append(predictions)\n",
    "        if loss is not None:\n",
    "            self.loss_curve.append(loss)\n",
    "        "
   ]
  },
  {
   "cell_type": "markdown",
   "metadata": {},
   "source": [
    "##### Model Training\n",
    "The training is pretty straight-forward:\n",
    "1. Get a prediction\n",
    "2. Run the backward method to update the weights based on that prediction\n",
    "3. Repeat for each word\n",
    "4. Repeat steps (1-3) a ton of times"
   ]
  },
  {
   "cell_type": "code",
   "execution_count": 9,
   "metadata": {},
   "outputs": [],
   "source": [
    "from sklearn.decomposition import TruncatedSVD, PCA\n",
    "\n",
    "def train(model, training_data, epochs=100, verbose=True, reducer=None):\n",
    "    for epoch in range(epochs+1):\n",
    "        for sample in training_data:\n",
    "            # get our input word and its current context\n",
    "            input_id = sample['input_id']\n",
    "            context = np.array(sample['context'])\n",
    "            \n",
    "            # predict the context and get the loss\n",
    "            y_pred = model.predict(input_id)\n",
    "            loss = model.loss_fn(y_pred, context)\n",
    "\n",
    "            # update the weights and embeddings\n",
    "            model.backward(input_id, context, y_pred)\n",
    "\n",
    "        # every so often we add to our information about the model\n",
    "        if reducer and epoch % 10 == 0:\n",
    "            x = reducer.transform(model.embedding_matrix)\n",
    "            model.update_model_states(word_vectors_2d=x)\n",
    "        if epoch % 50 == 0 and verbose:\n",
    "            print(f\"Epoch: {epoch} - Loss: {loss}\")\n",
    "        \n",
    "        model.update_model_states(predictions=model.predict(model.target_id), loss=loss)"
   ]
  },
  {
   "cell_type": "markdown",
   "metadata": {},
   "source": [
    "Here we train our model, and watch as the loss decreases!"
   ]
  },
  {
   "cell_type": "code",
   "execution_count": 10,
   "metadata": {},
   "outputs": [
    {
     "name": "stdout",
     "output_type": "stream",
     "text": [
      "Epoch: 0 - Loss: 6.837111938523112\n"
     ]
    },
    {
     "name": "stdout",
     "output_type": "stream",
     "text": [
      "Epoch: 50 - Loss: 2.4795894954530038\n",
      "Epoch: 100 - Loss: 1.1723768066240334\n",
      "Epoch: 150 - Loss: 0.8456434358580166\n",
      "Epoch: 200 - Loss: 0.7758136305685568\n",
      "Epoch: 250 - Loss: 0.7485375409013222\n",
      "Epoch: 300 - Loss: 0.7343799704510923\n"
     ]
    }
   ],
   "source": [
    "EMBEDDING_DIM = 32\n",
    "EPOCHS = 300\n",
    "LR = 0.005\n",
    "TARGET_ID = tokenizer.key_to_index['treasure']\n",
    "\n",
    "model = SkipGramModel(\n",
    "    vocab_size=len(tokenizer.vocab), \n",
    "    embedding_dim=EMBEDDING_DIM,\n",
    "    learning_rate=LR,\n",
    "    target_id=TARGET_ID\n",
    ")\n",
    "\n",
    "train(model, epochs=EPOCHS, training_data=dataset)"
   ]
  },
  {
   "cell_type": "markdown",
   "metadata": {},
   "source": [
    "I added this to fix a bug I was having. If you fit_transform PCA on each iteration of updates, you will find different principal components, so the movement of vectors will not be smooth. Instead, a solution is to fit the PCA to the trained embeddings, then simply transform on a new training cycle to capture the vector movement."
   ]
  },
  {
   "cell_type": "code",
   "execution_count": 11,
   "metadata": {},
   "outputs": [
    {
     "name": "stdout",
     "output_type": "stream",
     "text": [
      "Epoch: 0 - Loss: 4.737538805736748\n",
      "Epoch: 50 - Loss: 2.415051070799252\n",
      "Epoch: 100 - Loss: 1.0921683293152449\n",
      "Epoch: 150 - Loss: 0.84741495015244\n",
      "Epoch: 200 - Loss: 0.7800437516620518\n",
      "Epoch: 250 - Loss: 0.7517115540883212\n",
      "Epoch: 300 - Loss: 0.7366967477887703\n"
     ]
    }
   ],
   "source": [
    "pca = PCA(n_components=2)\n",
    "pca.fit(model.embedding_matrix)\n",
    "\n",
    "model = SkipGramModel(\n",
    "    vocab_size=len(tokenizer.vocab), \n",
    "    embedding_dim=EMBEDDING_DIM,\n",
    "    learning_rate=LR,\n",
    "    target_id=TARGET_ID\n",
    ")\n",
    "\n",
    "train(model, epochs=EPOCHS, training_data=dataset, reducer=pca)"
   ]
  },
  {
   "cell_type": "markdown",
   "metadata": {},
   "source": [
    "### Evaluation\n",
    "**Cosine Similarity**\n",
    "- How we will evaluate our model. We take a pair of words, get their vectors, and check how close they are to eachother. \n",
    "- How close they are to eachother is only considering the angle between the vectors. "
   ]
  },
  {
   "cell_type": "code",
   "execution_count": 12,
   "metadata": {},
   "outputs": [],
   "source": [
    "def cosine_similarity(vector1, vector2):\n",
    "    dot_product = np.dot(vector1, vector2)\n",
    "    norm_vector1 = np.linalg.norm(vector1)\n",
    "    norm_vector2 = np.linalg.norm(vector2)\n",
    "    similarity = dot_product / (norm_vector1 * norm_vector2)\n",
    "    return similarity\n",
    "\n",
    "def similar_words(model, target_id=0, vector=None, top_k=5):\n",
    "    # Assuming you have a list of words and their corresponding embedding vectors\n",
    "    embedding_matrix = model.embedding_matrix  # Your embedding matrix\n",
    "\n",
    "    # Get the embedding vector of the target word\n",
    "    if vector is None:\n",
    "        target = embedding_matrix[target_id]\n",
    "    else:\n",
    "        target = vector\n",
    "\n",
    "    # Calculate cosine similarity between the target word and all other words\n",
    "    similarities = {}\n",
    "    for index in tokenizer.index_to_key:\n",
    "        if index != target_id:\n",
    "            similarity = cosine_similarity(target, embedding_matrix[index])\n",
    "            similarities[tokenizer.index_to_key[index]] = similarity\n",
    "\n",
    "    # Sort the similar words by their cosine similarity\n",
    "    similar_words = sorted(similarities.items(), key=lambda x: x[1], reverse=True)\n",
    "\n",
    "    # Print the top similar words\n",
    "    if vector is None:\n",
    "        print(\"Similar words for\", tokenizer.index_to_key[target_id])\n",
    "    else:\n",
    "        print(\"Similar words\")\n",
    "    for word, similarity in similar_words[:top_k]:\n",
    "        print(word, \":\", similarity)\n",
    "\n",
    "    return similar_words"
   ]
  },
  {
   "cell_type": "markdown",
   "metadata": {},
   "source": [
    "Here we find similar words to \"treasure\""
   ]
  },
  {
   "cell_type": "code",
   "execution_count": 13,
   "metadata": {},
   "outputs": [
    {
     "name": "stdout",
     "output_type": "stream",
     "text": [
      "Similar words for treasure\n",
      "shore : 0.5202957316988709\n",
      "capture : 0.36898218251248327\n",
      "contexts : 0.36877018420372376\n",
      "secrets : 0.3503871266609803\n",
      "uncover : 0.33499455945018747\n"
     ]
    }
   ],
   "source": [
    "most_similar = similar_words(model, target_id=TARGET_ID)"
   ]
  },
  {
   "cell_type": "markdown",
   "metadata": {},
   "source": [
    "#### Analog Relationships\n",
    "***\n",
    "Here is a simple example of structuring an analog relationship. We are severly limited by the size of the training corpus, but in large scale applications of this model, really interesting analog relationships can be found.\n",
    "- These are expressed as\n",
    "    - vector2 is to vector3 as vector1 is to?\n",
    "    - The most similar word to this combination will be the answer to this question\n",
    "- Our example:\n",
    "    - Travelers is to Adventures as Hikers is to...\n",
    "        - Good Predictions: (experiences, journey, ...)"
   ]
  },
  {
   "cell_type": "code",
   "execution_count": 14,
   "metadata": {},
   "outputs": [
    {
     "name": "stdout",
     "output_type": "stream",
     "text": [
      "Similar words\n",
      "hikers : 0.6255711635853274\n",
      "adventures : 0.5258607787921219\n",
      "sparking : 0.37021114055132415\n",
      "uncovering : 0.3577333836952602\n",
      "laughter : 0.3502359509915714\n",
      "trails : 0.3432787540446172\n",
      "converge : 0.3419726066822966\n",
      "artifacts : 0.34047088078488646\n",
      "wares : 0.30004150594860035\n",
      "bridging : 0.2938428979617964\n"
     ]
    }
   ],
   "source": [
    "vector1 = model.embedding_matrix[tokenizer.key_to_index['hikers']]\n",
    "vector2 = model.embedding_matrix[tokenizer.key_to_index['travelers']]\n",
    "vector3 = model.embedding_matrix[tokenizer.key_to_index['adventures']]\n",
    "\n",
    "analogy_vector = vector1 - vector2 + vector3\n",
    "most_similar = similar_words(model, vector=analogy_vector, top_k=10)"
   ]
  },
  {
   "cell_type": "markdown",
   "metadata": {},
   "source": [
    "#### Loss Curve"
   ]
  },
  {
   "cell_type": "code",
   "execution_count": 15,
   "metadata": {},
   "outputs": [
    {
     "data": {
      "image/png": "[encoded data removed]",
      "text/plain": [
       "<Figure size 640x480 with 1 Axes>"
      ]
     },
     "metadata": {},
     "output_type": "display_data"
    }
   ],
   "source": [
    "plt.plot(model.loss_curve)\n",
    "plt.xlabel('Epochs')\n",
    "plt.ylabel('Loss')\n",
    "plt.title('Loss over time')\n",
    "plt.show()"
   ]
  },
  {
   "cell_type": "markdown",
   "metadata": {},
   "source": [
    "<a id=\"visualization\"></a>\n",
    "## Visualizations!\n",
    "To visualize our model, we will get an animation of the word vectors over time, along with the predictions over time. \n",
    "- For the predictions, we compare them against the ground truth. The ground truth is simply the actually percentage of the time that a word appears in the context of our given word. \n",
    "    - Let's say we have the text \"The dog went to the park.\" We are considering the word dog. \n",
    "    - We consider the context \"The\", \"went\"  and \"to\".\n",
    "    - We find that each are in the context 1/3 of the time, because thats the only time we see the word dog. \n",
    "    - In a longer text, we would see dog next to other words, like bone or dig, and the percentage will change. \n",
    "- The visualization provides a beautiful depiction of how the model converges to the correct solution."
   ]
  },
  {
   "cell_type": "markdown",
   "metadata": {},
   "source": [
    "Not much talked about, but lets see how our loss converges. This shows us how much error the model had throughout training."
   ]
  },
  {
   "cell_type": "code",
   "execution_count": 16,
   "metadata": {},
   "outputs": [],
   "source": [
    "# getting colors for our vectors, one per vector so we can easily distinguish the points\n",
    "def generate_unique_colors(num_colors):\n",
    "    cmap = plt.get_cmap('tab20')\n",
    "    return cmap(np.linspace(0, 1, num_colors))"
   ]
  },
  {
   "cell_type": "markdown",
   "metadata": {},
   "source": [
    "To visualize vectors over time, we simply select our vectors of choice, and find our model states for these vectors. \n",
    "- Once we do this, we can update our plot every frame to select the vectors at the next time-step. \n",
    "- This gives us the progression of their location in 2D at different times in training. "
   ]
  },
  {
   "cell_type": "code",
   "execution_count": 24,
   "metadata": {},
   "outputs": [],
   "source": [
    "def visualize_vectors_over_time(vectors_over_time, index_to_key, num_words=20):\n",
    "    plt.ioff()\n",
    "\n",
    "    bound = 2\n",
    "    vectors_to_display = []\n",
    "    # Only select vectors for the first num_words words\n",
    "    for vectors in vectors_over_time:\n",
    "        vectors_shown = [v for i, v in enumerate(vectors[:num_words]) if index_to_key[i] != 'voices']\n",
    "        vectors_to_display.append(vectors_shown)\n",
    "\n",
    "    # Generate unique colors for each word\n",
    "    num_colors = num_words\n",
    "    unique_colors = generate_unique_colors(num_colors)\n",
    "\n",
    "    # Create a figure and axis\n",
    "    # Initialize scatter plot\n",
    "    fig, ax = plt.subplots(1, 1, figsize=(10, 8))\n",
    "    sc = ax.scatter([], [])\n",
    "\n",
    "    # Set the axis limits\n",
    "    ax.set_xlim(-bound, bound)\n",
    "    ax.set_ylim(-bound, bound)\n",
    "\n",
    "    # Create a list to hold the annotations\n",
    "    annotations = [ax.annotate('', (0, 0)) for _ in range(num_words)]\n",
    "\n",
    "    def update(frame):\n",
    "        # Update the scatter plot data for each frame\n",
    "        sc.set_offsets(vectors_to_display[frame])\n",
    "        sc.set_color(unique_colors[:len(vectors_to_display[frame])])  # Set colors\n",
    "        \n",
    "        # Update annotations with word labels\n",
    "        for i, (x, y) in enumerate(vectors_to_display[frame]):\n",
    "            annotations[i].set_text(index_to_key[i])  # Set word label\n",
    "            annotations[i].set_position((x, y))  # Set position\n",
    "            annotations[i].set_visible(True)  # Make annotation visible\n",
    "\n",
    "        return sc, *annotations\n",
    "\n",
    "    # Create the animation\n",
    "    ani = FuncAnimation(fig, update, frames=len(vectors_to_display), blit=True)\n",
    "\n",
    "    plt.ion()\n",
    "    \n",
    "    return ani\n"
   ]
  },
  {
   "cell_type": "code",
   "execution_count": 25,
   "metadata": {},
   "outputs": [
    {
     "name": "stderr",
     "output_type": "stream",
     "text": [
      "MovieWriter ffmpeg unavailable; using Pillow instead.\n"
     ]
    }
   ],
   "source": [
    "ani = visualize_vectors_over_time(model.vectors_over_time, tokenizer.index_to_key, num_words=30)\n",
    "ani.save('../../imgs/vectors.gif')"
   ]
  },
  {
   "cell_type": "markdown",
   "metadata": {},
   "source": [
    "### Here is our animation, just press play and watch the vectors converge!"
   ]
  },
  {
   "cell_type": "markdown",
   "metadata": {},
   "source": [
    "![Vector Animation](../../imgs/vectors.gif)"
   ]
  },
  {
   "cell_type": "markdown",
   "metadata": {},
   "source": [
    "This function simply find every occurence of a given word and find the context distribution we mentioned earlier. This lets us compare both the predictions and ground truth for a given word over time."
   ]
  },
  {
   "cell_type": "code",
   "execution_count": 19,
   "metadata": {},
   "outputs": [],
   "source": [
    "def get_context_distribution(dataset, input_id, vocab_size):\n",
    "    context_accumulator = np.zeros(vocab_size)\n",
    "\n",
    "    # Iterate through the corpus data\n",
    "    for sample in dataset:\n",
    "        if sample['input_id'] == input_id:\n",
    "            context_accumulator += np.sum(sample['context'], axis=0)\n",
    "\n",
    "    # Calculate the distribution by normalizing the accumulator\n",
    "    context_distribution = context_accumulator / context_accumulator.sum()\n",
    "\n",
    "    return context_distribution"
   ]
  },
  {
   "cell_type": "markdown",
   "metadata": {},
   "source": [
    "To visualize our predictions, we simply need to update our plot every frame with the prediction at the next iteration. This will simply give us an idea of what the predictions made by the model looked like over time. Since we use gradient descent, you will notice a relatively smooth transition from the initial predictions to the trained predictions."
   ]
  },
  {
   "cell_type": "code",
   "execution_count": 20,
   "metadata": {},
   "outputs": [],
   "source": [
    "def visualize_predictions_over_time(pred_over_time, y_true, index_to_key, num_words=20):\n",
    "    plt.ioff()\n",
    "\n",
    "    # Create a figure and axis\n",
    "    fig, ax = plt.subplots(1, 1, figsize=(10, 7))\n",
    "    lines, = ax.plot([], [], color='red', label='Predicted')\n",
    "    \n",
    "    ax.plot(y_true, color='green', label='Ground Truth')\n",
    "\n",
    "    # Set the axis limits\n",
    "    ax.set_xlim(0, len(index_to_key))\n",
    "    ax.set_ylim(0, 1)  # Assuming context probabilities are between 0 and 1\n",
    "    \n",
    "    # Set labels and legend\n",
    "    ax.set_xlabel('Vocabulary')\n",
    "    ax.set_ylabel('Probability')\n",
    "    ax.set_title('Predicted vs Ground Truth Probability for \"treasure\"')\n",
    "    ax.legend(loc='upper right')\n",
    "\n",
    "    selected_indices = list(np.where(y_true > 0)[0])\n",
    "    selected_labels = [index_to_key[i] for i in selected_indices]\n",
    "\n",
    "    ax.set_xticks(selected_indices)\n",
    "    ax.set_xticklabels(selected_labels, rotation=90)\n",
    "\n",
    "    def update(frame):\n",
    "        prob_list = pred_over_time[frame]\n",
    "        lines.set_data(range(len(prob_list)), prob_list)\n",
    "\n",
    "        return lines,\n",
    "\n",
    "    # Create the animation\n",
    "    ani = FuncAnimation(fig, update, frames=len(pred_over_time), blit=True)\n",
    "\n",
    "    plt.tight_layout()\n",
    "\n",
    "    plt.ion()\n",
    "\n",
    "    return ani"
   ]
  },
  {
   "cell_type": "markdown",
   "metadata": {},
   "source": [
    "Here we can see the truth of which words appear in the context of our word and what percent of the time."
   ]
  },
  {
   "cell_type": "code",
   "execution_count": 21,
   "metadata": {},
   "outputs": [
    {
     "name": "stdout",
     "output_type": "stream",
     "text": [
      "[0.   0.   0.   0.   0.   0.   0.   0.25 0.   0.   0.   0.   0.   0.\n",
      " 0.   0.   0.   0.   0.   0.   0.   0.   0.   0.   0.   0.   0.   0.\n",
      " 0.   0.   0.   0.   0.   0.   0.   0.   0.   0.   0.   0.   0.   0.25\n",
      " 0.   0.   0.   0.   0.   0.   0.   0.   0.   0.   0.   0.   0.   0.\n",
      " 0.   0.   0.   0.   0.   0.   0.   0.   0.25 0.   0.   0.   0.   0.\n",
      " 0.   0.   0.   0.   0.   0.   0.   0.   0.   0.   0.   0.   0.   0.\n",
      " 0.   0.   0.   0.   0.   0.   0.   0.   0.   0.   0.   0.   0.   0.\n",
      " 0.   0.   0.   0.   0.   0.   0.   0.   0.   0.   0.   0.   0.   0.\n",
      " 0.   0.   0.   0.   0.   0.   0.   0.   0.   0.   0.   0.   0.   0.\n",
      " 0.   0.   0.   0.   0.   0.   0.25 0.   0.   0.   0.   0.   0.   0.\n",
      " 0.   0.   0.   0.   0.   0.   0.   0.   0.   0.   0.   0.   0.   0.\n",
      " 0.   0.   0.   0.   0.   0.   0.   0.   0.   0.   0.   0.   0.   0.\n",
      " 0.   0.   0.   0.   0.   0.   0.   0.  ]\n"
     ]
    }
   ],
   "source": [
    "ground_truth = get_context_distribution(dataset, TARGET_ID, len(tokenizer.vocab))\n",
    "print(ground_truth)"
   ]
  },
  {
   "cell_type": "code",
   "execution_count": 22,
   "metadata": {},
   "outputs": [
    {
     "name": "stderr",
     "output_type": "stream",
     "text": [
      "MovieWriter ffmpeg unavailable; using Pillow instead.\n"
     ]
    }
   ],
   "source": [
    "ani = visualize_predictions_over_time(model.predictions_over_time[::10], ground_truth, tokenizer.index_to_key)\n",
    "ani.save('../../imgs/predictions.gif')"
   ]
  },
  {
   "cell_type": "markdown",
   "metadata": {},
   "source": [
    "### Our visualization of the predictions!\n",
    "\n",
    "![Vector Animation](../../imgs/predictions.gif)"
   ]
  },
  {
   "cell_type": "markdown",
   "metadata": {},
   "source": [
    "### Tensorflow Projector\n",
    "***\n",
    "Here I write our findings into two tsv files which can be loaded into the [Tensorflow Embedding Projector](https://projector.tensorflow.org/).\n",
    "- This gives us a great visualization of the embeddings and easy comparison of similar words.\n",
    "- Follow the link to [My Projector!](https://projector.tensorflow.org/?config=https://gist.githubusercontent.com/chris-caballero/2e058818e161d7362ae51368afa00eb4/raw/76d86fc5e085ca7a2d34b8e30cf4d73047405369/projector-config.json)"
   ]
  },
  {
   "cell_type": "code",
   "execution_count": 23,
   "metadata": {},
   "outputs": [],
   "source": [
    "np.savetxt('../../data/embeddings.tsv', model.embedding_matrix, delimiter='\\t')\n",
    "\n",
    "# Save the metadata as a TSV file\n",
    "with open(\"../../data/metadata.tsv\", 'w') as f:\n",
    "    for item in tokenizer.key_to_index:\n",
    "        f.write(str(item) + '\\n')"
   ]
  },
  {
   "cell_type": "markdown",
   "metadata": {},
   "source": [
    "<div style=\"display: flex;\">\n",
    "    <div style=\"background-color: white; width: 25%; padding: 20px; margin-left: 20px\">\n",
    "        <p style=\"font-size: 25px; font-weight: 700; text-align: center; color: #b34c69;\">\n",
    "            Similar Words to <em>Adventures</em>\n",
    "        </p>\n",
    "        <hr>\n",
    "        <p style=\"text-align: center\">\n",
    "            <img src=\"../../imgs/similarity.png\" width='100%' height='100%'>\n",
    "        </p>\n",
    "    </div>\n",
    "</div>"
   ]
  },
  {
   "cell_type": "markdown",
   "metadata": {},
   "source": [
    "<a id=\"discussion\"></a>\n",
    "## Discussion\n",
    "Well! That is pretty much it for our implementation. I had a great time refactoring my old code in this process and having a clean notebook showing the results.\n",
    "1. We implemented the data loading and processing, seeing how easy it is to clean our data for training.\n",
    "2. We went in depth into the model architecture and training methods, and actually implemented our model class and trained it!\n",
    "3. Lastly, we visualized our findings, seeing the prediction convergence to the ground truth, watching the word vectors move around and witnessing some interesting analog relationships.\n",
    "\n",
    "***\n",
    "Thanks so much for checking out this notebook! Check out my other works if you are interested, I hope to have in depth project notebooks for all of them at some point!"
   ]
  }
 ],
 "metadata": {
  "kernelspec": {
   "display_name": "Python 3",
   "language": "python",
   "name": "python3"
  },
  "language_info": {
   "codemirror_mode": {
    "name": "ipython",
    "version": 3
   },
   "file_extension": ".py",
   "mimetype": "text/x-python",
   "name": "python",
   "nbconvert_exporter": "python",
   "pygments_lexer": "ipython3",
   "version": "3.10.12"
  },
  "orig_nbformat": 4
 },
 "nbformat": 4,
 "nbformat_minor": 2
}
